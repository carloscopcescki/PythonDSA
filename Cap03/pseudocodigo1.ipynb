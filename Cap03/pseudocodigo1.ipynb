{
 "cells": [
  {
   "cell_type": "markdown",
   "metadata": {},
   "source": [
    "Capítulo 3 - Introdução Lógica de Programação"
   ]
  },
  {
   "cell_type": "code",
   "execution_count": 15,
   "metadata": {},
   "outputs": [
    {
     "name": "stdout",
     "output_type": "stream",
     "text": [
      "Versão do Python: 3.11.4\n"
     ]
    }
   ],
   "source": [
    "from platform import python_version\n",
    "print('Versão do Python:', python_version())"
   ]
  },
  {
   "cell_type": "markdown",
   "metadata": {},
   "source": [
    "Calcular a área de um paralelograma\n",
    "\n",
    "Inicie\n",
    "\n",
    "    Exiba \"Bem-vindo ao calculador da área de paralelograma\"\n",
    "    Peça para o usuário inserir o comprimento da base\n",
    "    Armazene o comprimento da base em uma variável\n",
    "    Peça para o usuário inserir a altura\n",
    "    Armazene a altura em uma variável\n",
    "    Calcule a área do paralelogramo: base* altura\n",
    "    Armazene o resultado em uma variável\n",
    "    Exiba o resultado\n",
    "\n",
    "Fim"
   ]
  },
  {
   "cell_type": "code",
   "execution_count": 16,
   "metadata": {},
   "outputs": [
    {
     "name": "stdout",
     "output_type": "stream",
     "text": [
      "Bem vindo ao calculador da área de paralelograma\n"
     ]
    }
   ],
   "source": [
    "print(\"Bem vindo ao calculador da área de paralelograma\")"
   ]
  },
  {
   "cell_type": "code",
   "execution_count": 17,
   "metadata": {},
   "outputs": [],
   "source": [
    "base = float(input(\"Insira o comprimento da base: \"))"
   ]
  },
  {
   "cell_type": "code",
   "execution_count": 18,
   "metadata": {},
   "outputs": [],
   "source": [
    "altura = float(input(\"Insira a altura: \"))"
   ]
  },
  {
   "cell_type": "code",
   "execution_count": 19,
   "metadata": {},
   "outputs": [],
   "source": [
    "area = base * altura"
   ]
  },
  {
   "cell_type": "code",
   "execution_count": 20,
   "metadata": {},
   "outputs": [
    {
     "name": "stdout",
     "output_type": "stream",
     "text": [
      "A área do paralelogramo é:  24.0\n"
     ]
    }
   ],
   "source": [
    "print(\"A área do paralelogramo é: \", area)"
   ]
  }
 ],
 "metadata": {
  "kernelspec": {
   "display_name": "Python 3",
   "language": "python",
   "name": "python3"
  },
  "language_info": {
   "codemirror_mode": {
    "name": "ipython",
    "version": 3
   },
   "file_extension": ".py",
   "mimetype": "text/x-python",
   "name": "python",
   "nbconvert_exporter": "python",
   "pygments_lexer": "ipython3",
   "version": "3.11.4"
  },
  "orig_nbformat": 4
 },
 "nbformat": 4,
 "nbformat_minor": 2
}
